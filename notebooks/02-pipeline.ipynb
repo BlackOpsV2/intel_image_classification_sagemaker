{
 "cells": [
  {
   "cell_type": "code",
   "execution_count": 2,
   "id": "70806bb4-3c9f-484a-a2c6-b657a97277e0",
   "metadata": {
    "tags": []
   },
   "outputs": [
    {
     "name": "stdout",
     "output_type": "stream",
     "text": [
      "\u001b[33mWARNING: Running pip as the 'root' user can result in broken permissions and conflicting behaviour with the system package manager. It is recommended to use a virtual environment instead: https://pip.pypa.io/warnings/venv\u001b[0m\u001b[33m\n",
      "\u001b[0m\n",
      "\u001b[1m[\u001b[0m\u001b[34;49mnotice\u001b[0m\u001b[1;39;49m]\u001b[0m\u001b[39;49m A new release of pip available: \u001b[0m\u001b[31;49m22.2.2\u001b[0m\u001b[39;49m -> \u001b[0m\u001b[32;49m22.3.1\u001b[0m\n",
      "\u001b[1m[\u001b[0m\u001b[34;49mnotice\u001b[0m\u001b[1;39;49m]\u001b[0m\u001b[39;49m To update, run: \u001b[0m\u001b[32;49mpip install --upgrade pip\u001b[0m\n"
     ]
    }
   ],
   "source": [
    "# Make sure to use `sagemaker==2.93.0`\n",
    "! pip install --quiet sagemaker==2.93.0"
   ]
  },
  {
   "cell_type": "code",
   "execution_count": 3,
   "id": "a20aba0a-0b76-4037-b95b-d7bcaab3e329",
   "metadata": {
    "tags": []
   },
   "outputs": [],
   "source": [
    "import boto3\n",
    "import sagemaker\n",
    "import sagemaker.session\n",
    "from sagemaker.workflow.pipeline_context import PipelineSession"
   ]
  },
  {
   "cell_type": "code",
   "execution_count": 4,
   "id": "bf4baf52-7e53-4740-9afa-44418e09377e",
   "metadata": {
    "tags": []
   },
   "outputs": [
    {
     "data": {
      "text/plain": [
       "'2.93.0'"
      ]
     },
     "execution_count": 4,
     "metadata": {},
     "output_type": "execute_result"
    }
   ],
   "source": [
    "sagemaker.__version__"
   ]
  },
  {
   "cell_type": "code",
   "execution_count": 5,
   "id": "d3001b3b-7bb9-46ee-8d95-4ae4ff2bdd36",
   "metadata": {
    "tags": []
   },
   "outputs": [],
   "source": [
    "region = boto3.Session().region_name\n",
    "role = sagemaker.get_execution_role()\n",
    "boto_session = boto3.Session()\n",
    "sagemaker_session = sagemaker.Session(boto_session=boto_session)\n",
    "default_bucket = sagemaker_session.default_bucket()"
   ]
  },
  {
   "cell_type": "code",
   "execution_count": 6,
   "id": "667e1b48-ac23-45ef-9e83-9fad54e0fb5e",
   "metadata": {
    "tags": []
   },
   "outputs": [],
   "source": [
    "def get_sagemaker_client(region):\n",
    "    \"\"\"Gets the sagemaker client.\n",
    "\n",
    "    Args:\n",
    "        region: the aws region to start the session\n",
    "        default_bucket: the bucket to use for storing the artifacts\n",
    "\n",
    "    Returns:\n",
    "        `sagemaker.session.Session instance\n",
    "    \"\"\"\n",
    "    boto_session = boto3.Session(region_name=region)\n",
    "    sagemaker_client = boto_session.client(\"sagemaker\")\n",
    "    return sagemaker_client\n",
    "\n",
    "\n",
    "def get_session(region, default_bucket):\n",
    "    \"\"\"Gets the sagemaker session based on the region.\n",
    "\n",
    "    Args:\n",
    "        region: the aws region to start the session\n",
    "        default_bucket: the bucket to use for storing the artifacts\n",
    "\n",
    "    Returns:\n",
    "        `sagemaker.session.Session instance\n",
    "    \"\"\"\n",
    "\n",
    "    boto_session = boto3.Session(region_name=region)\n",
    "\n",
    "    sagemaker_client = boto_session.client(\"sagemaker\")\n",
    "    runtime_client = boto_session.client(\"sagemaker-runtime\")\n",
    "    return sagemaker.session.Session(\n",
    "        boto_session=boto_session,\n",
    "        sagemaker_client=sagemaker_client,\n",
    "        sagemaker_runtime_client=runtime_client,\n",
    "        default_bucket=default_bucket,\n",
    "    )\n",
    "\n",
    "\n",
    "def get_pipeline_session(region, default_bucket):\n",
    "    \"\"\"Gets the pipeline session based on the region.\n",
    "\n",
    "    Args:\n",
    "        region: the aws region to start the session\n",
    "        default_bucket: the bucket to use for storing the artifacts\n",
    "\n",
    "    Returns:\n",
    "        PipelineSession instance\n",
    "    \"\"\"\n",
    "\n",
    "    boto_session = boto3.Session(region_name=region)\n",
    "    sagemaker_client = boto_session.client(\"sagemaker\")\n",
    "\n",
    "    return PipelineSession(\n",
    "        boto_session=boto_session,\n",
    "        sagemaker_client=sagemaker_client,\n",
    "        default_bucket=default_bucket,\n",
    "    )"
   ]
  },
  {
   "cell_type": "code",
   "execution_count": 7,
   "id": "ef6b3884-2725-4170-abbf-9a04970a7a3c",
   "metadata": {
    "tags": []
   },
   "outputs": [],
   "source": [
    "sagemaker_session = get_session(region, default_bucket)\n",
    "role = sagemaker.session.get_execution_role(sagemaker_session)\n",
    "pipeline_session = get_pipeline_session(region, default_bucket)"
   ]
  },
  {
   "cell_type": "code",
   "execution_count": 8,
   "id": "e58ce971-4a43-41b0-96da-1dd4fe42cd69",
   "metadata": {
    "tags": []
   },
   "outputs": [],
   "source": [
    "base_job_name = \"intel-image-classification-pipeline\""
   ]
  },
  {
   "cell_type": "code",
   "execution_count": 9,
   "id": "6b587c4f-53a1-4f9f-ba61-e8ab46eb73ae",
   "metadata": {
    "tags": []
   },
   "outputs": [],
   "source": [
    "from sagemaker.workflow.parameters import (\n",
    "    ParameterInteger,\n",
    "    ParameterString,\n",
    ")"
   ]
  },
  {
   "cell_type": "markdown",
   "id": "281540e7-20ae-408b-9f3a-c02571194251",
   "metadata": {},
   "source": [
    "# Data Processing Step"
   ]
  },
  {
   "cell_type": "code",
   "execution_count": 10,
   "id": "15b12b32-70b7-416a-bd5a-4a31591a9ccb",
   "metadata": {
    "tags": []
   },
   "outputs": [],
   "source": [
    "from sagemaker.sklearn.processing import SKLearnProcessor\n",
    "from sagemaker.sklearn import SKLearn, SKLearnProcessor\n",
    "from sagemaker.processing import FrameworkProcessor\n",
    "from sagemaker.processing import ProcessingInput, ProcessingOutput"
   ]
  },
  {
   "cell_type": "code",
   "execution_count": 11,
   "id": "612c50f8-8856-486f-8f71-0f26779e8bf6",
   "metadata": {
    "tags": []
   },
   "outputs": [],
   "source": [
    "dvc_repo_url = ParameterString(\n",
    "    name=\"DVCRepoURL\", default_value=\"codecommit::ap-south-1://sagemaker-intel-image-classification\"\n",
    ")\n",
    "dvc_branch = ParameterString(\n",
    "    name=\"DVCBranch\", default_value=\"pipeline-processed-dataset\"\n",
    ")"
   ]
  },
  {
   "cell_type": "code",
   "execution_count": 12,
   "id": "73a30035-72c0-493f-8e03-45ecc438e8c3",
   "metadata": {
    "tags": []
   },
   "outputs": [],
   "source": [
    "sklearn_processor = FrameworkProcessor(\n",
    "    estimator_cls=SKLearn,\n",
    "    framework_version=\"0.23-1\",\n",
    "    # instance_type=\"ml.t3.medium\",\n",
    "    instance_type=\"ml.t3.large\",\n",
    "    image_uri=\"294495367161.dkr.ecr.ap-south-1.amazonaws.com/sagemaker:latest\",\n",
    "    # instance_type='local',\n",
    "    instance_count=1,\n",
    "    base_job_name=f\"{base_job_name}/preprocess-dataset\",\n",
    "    sagemaker_session=pipeline_session,\n",
    "    # sagemaker_session=local_pipeline_session,\n",
    "    role=role,\n",
    "    env={\n",
    "        \"DVC_REPO_URL\": dvc_repo_url,\n",
    "        \"DVC_BRANCH\": dvc_branch,\n",
    "        \"GIT_USER\": \"Vivek Chaudhary\",\n",
    "        \"GIT_EMAIL\": \"vivek.experiotech@gmail.com\",\n",
    "    },\n",
    ")"
   ]
  },
  {
   "cell_type": "code",
   "execution_count": 13,
   "id": "b3ca630f-eed7-40a5-bece-a4b4f1a55df5",
   "metadata": {
    "tags": []
   },
   "outputs": [],
   "source": [
    "from sagemaker.processing import ProcessingInput, ProcessingOutput\n",
    "from sagemaker.workflow.steps import ProcessingStep"
   ]
  },
  {
   "cell_type": "code",
   "execution_count": 14,
   "id": "1cee4c2a-028a-4dbe-bbe7-75defd8a38f0",
   "metadata": {
    "tags": []
   },
   "outputs": [],
   "source": [
    "input_dataset = ParameterString(\n",
    "    name=\"InputDatasetZip\",\n",
    "    default_value=\"s3://sagemaker-ap-south-1-294495367161/labelled_dataset/\",\n",
    ")"
   ]
  },
  {
   "cell_type": "code",
   "execution_count": 15,
   "id": "a22e23da-bca6-42df-9b63-ad6a92ae5b07",
   "metadata": {
    "tags": []
   },
   "outputs": [
    {
     "name": "stdout",
     "output_type": "stream",
     "text": [
      "\n",
      "Job Name:  intel-image-classification-pipeline/pre-2023-01-26-12-27-32-265\n",
      "Inputs:  [{'InputName': 'data', 'AppManaged': False, 'S3Input': {'S3Uri': ParameterString(name='InputDatasetZip', parameter_type=<ParameterTypeEnum.STRING: 'String'>, default_value='s3://sagemaker-ap-south-1-294495367161/labelled_dataset/'), 'LocalPath': '/opt/ml/processing/input', 'S3DataType': 'S3Prefix', 'S3InputMode': 'File', 'S3DataDistributionType': 'FullyReplicated', 'S3CompressionType': 'None'}}, {'InputName': 'code', 'AppManaged': False, 'S3Input': {'S3Uri': 's3://sagemaker-ap-south-1-294495367161/intel-image-classification-pipeline/pre-2023-01-26-12-27-32-265/source/sourcedir.tar.gz', 'LocalPath': '/opt/ml/processing/input/code/', 'S3DataType': 'S3Prefix', 'S3InputMode': 'File', 'S3DataDistributionType': 'FullyReplicated', 'S3CompressionType': 'None'}}, {'InputName': 'entrypoint', 'AppManaged': False, 'S3Input': {'S3Uri': 's3://sagemaker-ap-south-1-294495367161/intel-image-classification-pipeline/pre-2023-01-26-12-27-32-265/source/runproc.sh', 'LocalPath': '/opt/ml/processing/input/entrypoint', 'S3DataType': 'S3Prefix', 'S3InputMode': 'File', 'S3DataDistributionType': 'FullyReplicated', 'S3CompressionType': 'None'}}]\n",
      "Outputs:  [{'OutputName': 'train', 'AppManaged': False, 'S3Output': {'S3Uri': 's3://sagemaker-ap-south-1-294495367161/intel-image-classification-pipeline/pre-2023-01-26-12-27-32-265/output/train', 'LocalPath': '/opt/ml/processing/dataset/train', 'S3UploadMode': 'EndOfJob'}}, {'OutputName': 'val', 'AppManaged': False, 'S3Output': {'S3Uri': 's3://sagemaker-ap-south-1-294495367161/intel-image-classification-pipeline/pre-2023-01-26-12-27-32-265/output/val', 'LocalPath': '/opt/ml/processing/dataset/val', 'S3UploadMode': 'EndOfJob'}}, {'OutputName': 'test', 'AppManaged': False, 'S3Output': {'S3Uri': 's3://sagemaker-ap-south-1-294495367161/intel-image-classification-pipeline/pre-2023-01-26-12-27-32-265/output/test', 'LocalPath': '/opt/ml/processing/dataset/test', 'S3UploadMode': 'EndOfJob'}}]\n"
     ]
    },
    {
     "name": "stderr",
     "output_type": "stream",
     "text": [
      "/opt/conda/lib/python3.8/site-packages/sagemaker/workflow/pipeline_context.py:194: UserWarning: Running within a PipelineSession, there will be No Wait, No Logs, and No Job being started.\n",
      "  warnings.warn(\n"
     ]
    }
   ],
   "source": [
    "processing_step_args = sklearn_processor.run(\n",
    "    code=\"preprocess.py\",\n",
    "    source_dir=\"/root/intel_image_classification_sagemaker/\",\n",
    "    # dependencies=\"sagemaker-flower-pipeline/requirements.txt\",\n",
    "    inputs=[\n",
    "        ProcessingInput(\n",
    "            input_name=\"data\",\n",
    "            source=input_dataset,\n",
    "            destination=\"/opt/ml/processing/input\",\n",
    "        )\n",
    "    ],\n",
    "    outputs=[\n",
    "        ProcessingOutput(output_name=\"train\", source=\"/opt/ml/processing/dataset/train\"),\n",
    "        ProcessingOutput(output_name=\"val\", source=\"/opt/ml/processing/dataset/val\"),\n",
    "        ProcessingOutput(output_name=\"test\", source=\"/opt/ml/processing/dataset/test\"),\n",
    "    ],\n",
    ")"
   ]
  },
  {
   "cell_type": "code",
   "execution_count": 16,
   "id": "05605a27-3754-495c-bb9d-91d4a087a1d7",
   "metadata": {
    "tags": []
   },
   "outputs": [],
   "source": [
    "step_process = ProcessingStep(\n",
    "    name=\"PreprocessDataset\",\n",
    "    step_args=processing_step_args,\n",
    ")"
   ]
  },
  {
   "cell_type": "code",
   "execution_count": 17,
   "id": "69a58878-499a-4a11-a37e-80ec256aaf7b",
   "metadata": {
    "tags": []
   },
   "outputs": [
    {
     "data": {
      "text/plain": [
       "ProcessingStep(name='PreprocessDataset', display_name=None, description=None, step_type=<StepTypeEnum.PROCESSING: 'Processing'>, depends_on=None)"
      ]
     },
     "execution_count": 17,
     "metadata": {},
     "output_type": "execute_result"
    }
   ],
   "source": [
    "step_process"
   ]
  },
  {
   "cell_type": "markdown",
   "id": "f5e78cbe-79e9-4d3c-a849-f893b45ac3b8",
   "metadata": {},
   "source": [
    "# Training Step "
   ]
  },
  {
   "cell_type": "code",
   "execution_count": 18,
   "id": "96bed399-007b-4a95-812d-6b4dd0024db5",
   "metadata": {
    "tags": []
   },
   "outputs": [],
   "source": [
    "from sagemaker.pytorch import PyTorch\n",
    "from sagemaker.debugger import TensorBoardOutputConfig\n",
    "from sagemaker.workflow.steps import (\n",
    "    ProcessingStep,\n",
    "    TrainingStep,\n",
    ")"
   ]
  },
  {
   "cell_type": "code",
   "execution_count": 19,
   "id": "3f44fe10-d864-4b89-a3ab-40d146a82694",
   "metadata": {
    "tags": []
   },
   "outputs": [],
   "source": [
    "tensorboard_output_config = TensorBoardOutputConfig(\n",
    "    s3_output_path=f\"s3://{default_bucket}/logs/sagemaker_intel_image_classification\",\n",
    "    container_local_output_path=\"/opt/ml/output/tensorboard\",\n",
    ")"
   ]
  },
  {
   "cell_type": "code",
   "execution_count": 20,
   "id": "4936f130-80aa-459b-90da-e3d25a00db18",
   "metadata": {
    "tags": []
   },
   "outputs": [],
   "source": [
    "pt_estimator = PyTorch(\n",
    "    image_uri=\"294495367161.dkr.ecr.ap-south-1.amazonaws.com/sagemaker:latest\",\n",
    "    base_job_name=f\"{base_job_name}/training_intel_image\",\n",
    "    source_dir=\"/root/intel_image_classification_sagemaker/\",\n",
    "    entry_point=\"train.py\",\n",
    "    sagemaker_session=pipeline_session,\n",
    "    role=role,\n",
    "    py_version=\"py38\",\n",
    "    framework_version=\"1.11.0\",\n",
    "    instance_count=1,\n",
    "    instance_type=\"ml.c5.4xlarge\",\n",
    "    tensorboard_output_config=tensorboard_output_config,\n",
    "    use_spot_instances=True,\n",
    "    max_wait=5500,\n",
    "    max_run=5200,\n",
    "    environment={\"GIT_USER\": \"Vivek Chaudhary\", \"GIT_EMAIL\": \"vivek.experiotech@gmail.com\"},\n",
    ")"
   ]
  },
  {
   "cell_type": "code",
   "execution_count": 21,
   "id": "e5246a00-4881-4972-a0af-2dc5420598c6",
   "metadata": {
    "tags": []
   },
   "outputs": [],
   "source": [
    "from sagemaker.inputs import TrainingInput"
   ]
  },
  {
   "cell_type": "code",
   "execution_count": 22,
   "id": "bfdb8028-d8b7-472d-aa22-5509cac54696",
   "metadata": {
    "tags": []
   },
   "outputs": [],
   "source": [
    "estimator_step_args = pt_estimator.fit(\n",
    "    {\n",
    "        # 'train': 's3://sagemaker-ap-south-1-006547668672/testing/training',\n",
    "        # 'train': step_process.properties.ProcessingOutputConfig.Outputs[\"train\"].S3Output.S3Uri,\n",
    "        # # 'test': 's3://sagemaker-ap-south-1-006547668672/testing/training'\n",
    "        # 'test': step_process.properties.ProcessingOutputConfig.Outputs[\"test\"].S3Output.S3Uri,\n",
    "        \"train\": TrainingInput(\n",
    "            s3_data=step_process.properties.ProcessingOutputConfig.Outputs[\n",
    "                \"train\"\n",
    "            ].S3Output.S3Uri,\n",
    "        ),\n",
    "        \"test\": TrainingInput(\n",
    "            s3_data=step_process.properties.ProcessingOutputConfig.Outputs[\n",
    "                \"test\"\n",
    "            ].S3Output.S3Uri,\n",
    "        ),\n",
    "        \"val\": TrainingInput(\n",
    "            s3_data=step_process.properties.ProcessingOutputConfig.Outputs[\n",
    "                \"val\"\n",
    "            ].S3Output.S3Uri,\n",
    "        )\n",
    "    }\n",
    ")"
   ]
  },
  {
   "cell_type": "code",
   "execution_count": 23,
   "id": "4e75de8a-31ad-44f0-8975-399d88cd2b61",
   "metadata": {
    "tags": []
   },
   "outputs": [],
   "source": [
    "step_train = TrainingStep(\n",
    "    name=\"TrainClassifier\",\n",
    "    step_args=estimator_step_args,\n",
    ")"
   ]
  },
  {
   "cell_type": "code",
   "execution_count": 24,
   "id": "a7b7cd01-7865-4204-b906-93fd9332f1c1",
   "metadata": {
    "tags": []
   },
   "outputs": [
    {
     "data": {
      "text/plain": [
       "TrainingStep(name='TrainClassifier', display_name=None, description=None, step_type=<StepTypeEnum.TRAINING: 'Training'>, depends_on=None)"
      ]
     },
     "execution_count": 24,
     "metadata": {},
     "output_type": "execute_result"
    }
   ],
   "source": [
    "step_train"
   ]
  },
  {
   "cell_type": "markdown",
   "id": "49823f2c-344f-4de8-9d59-373804b34261",
   "metadata": {},
   "source": [
    "# Eval Step"
   ]
  },
  {
   "cell_type": "code",
   "execution_count": 25,
   "id": "b948e5c7-d00d-42ae-863b-0b985195245d",
   "metadata": {
    "tags": []
   },
   "outputs": [],
   "source": [
    "from sagemaker.pytorch.processing import PyTorchProcessor"
   ]
  },
  {
   "cell_type": "code",
   "execution_count": 26,
   "id": "f37f7888-e666-4936-8230-e6406ec297f9",
   "metadata": {},
   "outputs": [],
   "source": [
    "pytorch_processor = PyTorchProcessor(\n",
    "    image_uri=\"294495367161.dkr.ecr.ap-south-1.amazonaws.com/sagemaker:latest\",\n",
    "    framework_version=\"1.11.0\",\n",
    "    py_version=\"py38\",\n",
    "    role=role,\n",
    "    sagemaker_session=pipeline_session,\n",
    "    instance_type=\"ml.t3.xlarge\",\n",
    "    instance_count=1,\n",
    "    base_job_name=f\"{base_job_name}/eval-intel_image-classifier-model\",\n",
    ")"
   ]
  },
  {
   "cell_type": "code",
   "execution_count": 27,
   "id": "bb6e1729-3705-4863-ad26-3e6c473f6b5e",
   "metadata": {},
   "outputs": [
    {
     "name": "stdout",
     "output_type": "stream",
     "text": [
      "\n",
      "Job Name:  intel-image-classification-pipeline/eva-2023-01-26-12-27-41-430\n",
      "Inputs:  [{'InputName': 'input-1', 'AppManaged': False, 'S3Input': {'S3Uri': <sagemaker.workflow.properties.Properties object at 0x7f360c8ddfd0>, 'LocalPath': '/opt/ml/processing/model', 'S3DataType': 'S3Prefix', 'S3InputMode': 'File', 'S3DataDistributionType': 'FullyReplicated', 'S3CompressionType': 'None'}}, {'InputName': 'input-2', 'AppManaged': False, 'S3Input': {'S3Uri': <sagemaker.workflow.properties.Properties object at 0x7f360c854790>, 'LocalPath': '/opt/ml/processing/test', 'S3DataType': 'S3Prefix', 'S3InputMode': 'File', 'S3DataDistributionType': 'FullyReplicated', 'S3CompressionType': 'None'}}, {'InputName': 'code', 'AppManaged': False, 'S3Input': {'S3Uri': 's3://sagemaker-ap-south-1-294495367161/intel-image-classification-pipeline/eva-2023-01-26-12-27-41-430/source/sourcedir.tar.gz', 'LocalPath': '/opt/ml/processing/input/code/', 'S3DataType': 'S3Prefix', 'S3InputMode': 'File', 'S3DataDistributionType': 'FullyReplicated', 'S3CompressionType': 'None'}}, {'InputName': 'entrypoint', 'AppManaged': False, 'S3Input': {'S3Uri': 's3://sagemaker-ap-south-1-294495367161/intel-image-classification-pipeline/eva-2023-01-26-12-27-41-430/source/runproc.sh', 'LocalPath': '/opt/ml/processing/input/entrypoint', 'S3DataType': 'S3Prefix', 'S3InputMode': 'File', 'S3DataDistributionType': 'FullyReplicated', 'S3CompressionType': 'None'}}]\n",
      "Outputs:  [{'OutputName': 'evaluation', 'AppManaged': False, 'S3Output': {'S3Uri': 's3://sagemaker-ap-south-1-294495367161/intel-image-classification-pipeline/eva-2023-01-26-12-27-41-430/output/evaluation', 'LocalPath': '/opt/ml/processing/evaluation', 'S3UploadMode': 'EndOfJob'}}]\n"
     ]
    }
   ],
   "source": [
    "eval_step_args = pytorch_processor.run(\n",
    "    code=\"eval.py\",\n",
    "    source_dir=\"/root/intel_image_classification_sagemaker/\",\n",
    "    inputs=[\n",
    "        ProcessingInput(\n",
    "            source=step_train.properties.ModelArtifacts.S3ModelArtifacts,\n",
    "            # source=step_train.properties.ModelArtifacts.S3ModelArtifacts,\n",
    "            # source=\"s3://sagemaker-ap-south-1-006547668672/training-flower-pipeline-2022-12-07-03-20-21-157/output/model.tar.gz\",\n",
    "            destination=\"/opt/ml/processing/model\",\n",
    "        ),\n",
    "        ProcessingInput(\n",
    "            # source=step_process.properties.ProcessingOutputConfig.Outputs[\n",
    "            #     \"test\"\n",
    "            # ].S3Output.S3Uri,\n",
    "            source=step_process.properties.ProcessingOutputConfig.Outputs[\n",
    "                \"test\"\n",
    "            ].S3Output.S3Uri,\n",
    "            # source=\"s3://sagemaker-ap-south-1-006547668672/testing/training\",\n",
    "            destination=\"/opt/ml/processing/test\",\n",
    "        ),\n",
    "    ],\n",
    "    outputs=[\n",
    "        ProcessingOutput(\n",
    "            output_name=\"evaluation\", source=\"/opt/ml/processing/evaluation\"\n",
    "        ),\n",
    "    ],\n",
    ")"
   ]
  },
  {
   "cell_type": "code",
   "execution_count": 28,
   "id": "05ae39d9-78dc-4b86-9969-ca6e493a7fd3",
   "metadata": {},
   "outputs": [],
   "source": [
    "from sagemaker.workflow.properties import PropertyFile"
   ]
  },
  {
   "cell_type": "code",
   "execution_count": 29,
   "id": "dc588857-8b59-4324-88cc-3062910289d9",
   "metadata": {},
   "outputs": [],
   "source": [
    "evaluation_report = PropertyFile(\n",
    "    name=\"IntelImageClassifierEvaluationReport\",\n",
    "    output_name=\"evaluation\",\n",
    "    path=\"evaluation.json\",\n",
    ")\n",
    "step_eval = ProcessingStep(\n",
    "    name=\"ModelEvaluation\",\n",
    "    step_args=eval_step_args,\n",
    "    property_files=[evaluation_report],\n",
    ")"
   ]
  },
  {
   "cell_type": "code",
   "execution_count": 30,
   "id": "63582e0d-8f9d-4d38-af55-7141c57a5012",
   "metadata": {},
   "outputs": [
    {
     "data": {
      "text/plain": [
       "ProcessingStep(name='ModelEvaluation', display_name=None, description=None, step_type=<StepTypeEnum.PROCESSING: 'Processing'>, depends_on=None)"
      ]
     },
     "execution_count": 30,
     "metadata": {},
     "output_type": "execute_result"
    }
   ],
   "source": [
    "step_eval"
   ]
  },
  {
   "cell_type": "markdown",
   "id": "c812cc3c-fc59-455b-a62e-244181203856",
   "metadata": {},
   "source": [
    "# Model Metrics"
   ]
  },
  {
   "cell_type": "code",
   "execution_count": 31,
   "id": "5754bb69-0438-435f-8a4e-d0704af617fe",
   "metadata": {},
   "outputs": [],
   "source": [
    "from sagemaker.workflow.properties import PropertyFile\n",
    "from sagemaker.model_metrics import (\n",
    "    MetricsSource,\n",
    "    ModelMetrics,\n",
    ")"
   ]
  },
  {
   "cell_type": "code",
   "execution_count": 32,
   "id": "95e2ab45-8a2f-473a-8636-3b291c780736",
   "metadata": {},
   "outputs": [],
   "source": [
    "model_metrics = ModelMetrics(\n",
    "    model_statistics=MetricsSource(\n",
    "        s3_uri=\"{}/evaluation.json\".format(\n",
    "            step_eval.arguments[\"ProcessingOutputConfig\"][\"Outputs\"][0][\"S3Output\"][\n",
    "                \"S3Uri\"\n",
    "            ]\n",
    "        ),\n",
    "        content_type=\"application/json\",\n",
    "    )\n",
    ")"
   ]
  },
  {
   "cell_type": "markdown",
   "id": "318420f3-3dd9-4747-bdcd-f85ad694e4d7",
   "metadata": {},
   "source": [
    "# Register Model Step (Conditional)"
   ]
  },
  {
   "cell_type": "code",
   "execution_count": 33,
   "id": "97cf5905-98d2-41f4-b87c-fb04690ce8fa",
   "metadata": {},
   "outputs": [],
   "source": [
    "from sagemaker.pytorch import PyTorchModel\n",
    "from sagemaker.serializers import JSONSerializer\n",
    "from sagemaker.deserializers import JSONDeserializer\n",
    "from sagemaker.workflow.model_step import ModelStep"
   ]
  },
  {
   "cell_type": "code",
   "execution_count": 34,
   "id": "4e9319bc-5edd-4fc5-ab84-9103d0180809",
   "metadata": {},
   "outputs": [],
   "source": [
    "model_approval_status = ParameterString(\n",
    "    name=\"ModelApprovalStatus\", default_value=\"PendingManualApproval\"\n",
    ")"
   ]
  },
  {
   "cell_type": "code",
   "execution_count": 35,
   "id": "d6d89da7-e39a-4e76-9d22-f0ae7411f419",
   "metadata": {},
   "outputs": [],
   "source": [
    "model_package_group_name = \"IntelImageClassifierModelGroup\""
   ]
  },
  {
   "cell_type": "code",
   "execution_count": 36,
   "id": "2ec4723a-e029-486a-bae7-4819890192d9",
   "metadata": {},
   "outputs": [],
   "source": [
    "model = PyTorchModel(\n",
    "    entry_point=\"infer.py\",\n",
    "    source_dir=\"/root/intel_image_classification_sagemaker/\",\n",
    "    sagemaker_session=pipeline_session,\n",
    "    role=role,\n",
    "    model_data=step_train.properties.ModelArtifacts.S3ModelArtifacts,\n",
    "    # model_data=\"s3://sagemaker-ap-south-1-006547668672/training-flower-pipeline-2022-12-07-03-20-21-157/output/model.tar.gz\",\n",
    "    framework_version=\"1.11.0\",\n",
    "    py_version=\"py38\",\n",
    ")"
   ]
  },
  {
   "cell_type": "code",
   "execution_count": 37,
   "id": "5ca7e11d-6813-4603-aa22-355e451eba6d",
   "metadata": {},
   "outputs": [],
   "source": [
    "model_step_args = model.register(\n",
    "    content_types=[\"application/json\"],\n",
    "    response_types=[\"application/json\"],\n",
    "    inference_instances=[\"ml.t2.medium\"],\n",
    "    transform_instances=[\"ml.m4.xlarge\"],\n",
    "    model_package_group_name=model_package_group_name,\n",
    "    # approval_status=model_approval_status,\n",
    "    approval_status=\"PendingManualApproval\",\n",
    "    model_metrics=model_metrics,\n",
    ")"
   ]
  },
  {
   "cell_type": "code",
   "execution_count": 38,
   "id": "e5e7d161-0da9-41f1-8a81-3943fcee8845",
   "metadata": {},
   "outputs": [],
   "source": [
    "step_register = ModelStep(\n",
    "    name=\"RegisterModel\",\n",
    "    step_args=model_step_args,\n",
    ")"
   ]
  },
  {
   "cell_type": "code",
   "execution_count": 39,
   "id": "c7ce1654-1632-4c57-8183-40e3e4496b9f",
   "metadata": {},
   "outputs": [
    {
     "data": {
      "text/plain": [
       "ModelStep(name='RegisterModel', steps=[_RepackModelStep(name='RegisterModel-RepackModel-0', display_name=None, description='Used to repack a model with customer scripts for a register/create model step', step_type=<StepTypeEnum.TRAINING: 'Training'>, depends_on=None), _RegisterModelStep(name='RegisterModel-RegisterModel', display_name=None, description=None, step_type=<StepTypeEnum.REGISTER_MODEL: 'RegisterModel'>, depends_on=None)])"
      ]
     },
     "execution_count": 39,
     "metadata": {},
     "output_type": "execute_result"
    }
   ],
   "source": [
    "step_register"
   ]
  },
  {
   "cell_type": "code",
   "execution_count": 40,
   "id": "6e1b414f-9b34-4b49-8b8a-e229cc87e804",
   "metadata": {},
   "outputs": [],
   "source": [
    "from sagemaker.workflow.conditions import ConditionGreaterThanOrEqualTo\n",
    "from sagemaker.workflow.functions import (\n",
    "    JsonGet,\n",
    ")\n",
    "from sagemaker.workflow.condition_step import (\n",
    "    ConditionStep,\n",
    ")"
   ]
  },
  {
   "cell_type": "code",
   "execution_count": 41,
   "id": "1c776ac3-e200-4a07-89c8-cf4ab29a1a1e",
   "metadata": {},
   "outputs": [],
   "source": [
    "cond_gte = ConditionGreaterThanOrEqualTo(\n",
    "    left=JsonGet(\n",
    "        step_name=step_eval.name,\n",
    "        property_file=evaluation_report,\n",
    "        json_path=\"multiclass_classification_metrics.accuracy.value\",\n",
    "    ),\n",
    "    right=0.6,\n",
    ")\n",
    "\n",
    "step_cond = ConditionStep(\n",
    "    name=\"CheckEvaluationAccuracy\",\n",
    "    conditions=[cond_gte],\n",
    "    if_steps=[step_register],\n",
    "    else_steps=[],\n",
    ")"
   ]
  },
  {
   "cell_type": "markdown",
   "id": "85833549-d136-44b6-8b1d-4f936692c4dc",
   "metadata": {},
   "source": [
    "# Pipeline"
   ]
  },
  {
   "cell_type": "code",
   "execution_count": 42,
   "id": "69fa6926-94ab-4d7d-a266-89e2999ebe7d",
   "metadata": {
    "tags": []
   },
   "outputs": [],
   "source": [
    "from sagemaker.workflow.pipeline import Pipeline"
   ]
  },
  {
   "cell_type": "code",
   "execution_count": 43,
   "id": "94f9f909-aed1-485c-9391-18c66e6f5d0b",
   "metadata": {
    "tags": []
   },
   "outputs": [],
   "source": [
    "pipeline_name = \"PyTorchLightningKaggleIntelImageClassifier\""
   ]
  },
  {
   "cell_type": "code",
   "execution_count": 44,
   "id": "295457b4-b032-449d-aa2c-d3f483522bb4",
   "metadata": {
    "tags": []
   },
   "outputs": [],
   "source": [
    "pipeline = Pipeline(\n",
    "    name=pipeline_name,\n",
    "    parameters=[dvc_repo_url, dvc_branch, input_dataset, model_approval_status],\n",
    "    steps=[step_process, step_train, step_eval, step_cond],\n",
    "    sagemaker_session=pipeline_session,\n",
    ")"
   ]
  },
  {
   "cell_type": "code",
   "execution_count": 45,
   "id": "8120dda7-da58-46ac-b322-156d1288dfbd",
   "metadata": {
    "tags": []
   },
   "outputs": [],
   "source": [
    "upsert_response = pipeline.upsert(\n",
    "    role_arn=role, description=\"testing pytorch intel image pipeline\"\n",
    ")"
   ]
  },
  {
   "cell_type": "code",
   "execution_count": 46,
   "id": "d1722adb-4e84-422a-b75d-8cf3342ff942",
   "metadata": {
    "tags": []
   },
   "outputs": [],
   "source": [
    "execution = pipeline.start()"
   ]
  },
  {
   "cell_type": "code",
   "execution_count": 47,
   "id": "cc5fd86b-6911-49a3-b618-0ecfa4e8d75a",
   "metadata": {
    "tags": []
   },
   "outputs": [
    {
     "data": {
      "text/plain": [
       "[]"
      ]
     },
     "execution_count": 47,
     "metadata": {},
     "output_type": "execute_result"
    }
   ],
   "source": [
    "execution.list_steps()"
   ]
  },
  {
   "cell_type": "code",
   "execution_count": 48,
   "id": "5046de61-475e-4aca-a7e8-5ae65889ecb0",
   "metadata": {
    "tags": []
   },
   "outputs": [
    {
     "data": {
      "text/plain": [
       "{'PipelineArn': 'arn:aws:sagemaker:ap-south-1:294495367161:pipeline/pytorchlightningkaggleintelimageclassifier',\n",
       " 'PipelineExecutionArn': 'arn:aws:sagemaker:ap-south-1:294495367161:pipeline/pytorchlightningkaggleintelimageclassifier/execution/gm2rftpgwyaj',\n",
       " 'PipelineExecutionDisplayName': 'execution-1674736066475',\n",
       " 'PipelineExecutionStatus': 'Executing',\n",
       " 'PipelineExperimentConfig': {'ExperimentName': 'pytorchlightningkaggleintelimageclassifier',\n",
       "  'TrialName': 'gm2rftpgwyaj'},\n",
       " 'CreationTime': datetime.datetime(2023, 1, 26, 12, 27, 46, 417000, tzinfo=tzlocal()),\n",
       " 'LastModifiedTime': datetime.datetime(2023, 1, 26, 12, 27, 46, 417000, tzinfo=tzlocal()),\n",
       " 'CreatedBy': {'UserProfileArn': 'arn:aws:sagemaker:ap-south-1:294495367161:user-profile/d-e3gzf0a5ytck/default-1673687160619',\n",
       "  'UserProfileName': 'default-1673687160619',\n",
       "  'DomainId': 'd-e3gzf0a5ytck'},\n",
       " 'LastModifiedBy': {'UserProfileArn': 'arn:aws:sagemaker:ap-south-1:294495367161:user-profile/d-e3gzf0a5ytck/default-1673687160619',\n",
       "  'UserProfileName': 'default-1673687160619',\n",
       "  'DomainId': 'd-e3gzf0a5ytck'},\n",
       " 'ResponseMetadata': {'RequestId': 'ad3c1e38-c04d-4ba0-8570-4ba923e37b14',\n",
       "  'HTTPStatusCode': 200,\n",
       "  'HTTPHeaders': {'x-amzn-requestid': 'ad3c1e38-c04d-4ba0-8570-4ba923e37b14',\n",
       "   'content-type': 'application/x-amz-json-1.1',\n",
       "   'content-length': '929',\n",
       "   'date': 'Thu, 26 Jan 2023 12:27:47 GMT'},\n",
       "  'RetryAttempts': 0}}"
      ]
     },
     "execution_count": 48,
     "metadata": {},
     "output_type": "execute_result"
    }
   ],
   "source": [
    "execution.describe()"
   ]
  },
  {
   "cell_type": "code",
   "execution_count": null,
   "id": "9a815083-7781-4414-b0ee-ac67e8fc9ad3",
   "metadata": {},
   "outputs": [],
   "source": []
  },
  {
   "cell_type": "code",
   "execution_count": null,
   "id": "f1709623-1881-4352-b03f-e3f48836c233",
   "metadata": {},
   "outputs": [],
   "source": []
  }
 ],
 "metadata": {
  "instance_type": "ml.t3.medium",
  "kernelspec": {
   "display_name": "Python 3 (PyTorch 1.12 Python 3.8 CPU Optimized)",
   "language": "python",
   "name": "python3__SAGEMAKER_INTERNAL__arn:aws:sagemaker:ap-south-1:394103062818:image/pytorch-1.12-cpu-py38"
  },
  "language_info": {
   "codemirror_mode": {
    "name": "ipython",
    "version": 3
   },
   "file_extension": ".py",
   "mimetype": "text/x-python",
   "name": "python",
   "nbconvert_exporter": "python",
   "pygments_lexer": "ipython3",
   "version": "3.8.13"
  }
 },
 "nbformat": 4,
 "nbformat_minor": 5
}
