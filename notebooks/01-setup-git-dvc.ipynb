{
 "cells": [
  {
   "cell_type": "code",
   "execution_count": 18,
   "id": "91da686d-5039-417f-9981-ebe87f2c2545",
   "metadata": {
    "tags": []
   },
   "outputs": [],
   "source": [
    "! git config --global user.email \"vivek.experiotech7@gmail.com\"\n",
    "! git config --global user.name \"Vivek Chaudhary\"\n",
    "\n",
    "! git config --global credential.helper '!aws codecommit credential-helper $@'\n",
    "! git config --global credential.UseHttpPath true"
   ]
  },
  {
   "cell_type": "code",
   "execution_count": null,
   "id": "d223c045-8450-45cf-a99c-0433a78a959c",
   "metadata": {
    "tags": []
   },
   "outputs": [
    {
     "name": "stdout",
     "output_type": "stream",
     "text": [
      "Cloning into 'sagemaker-intel-image-classification'...\n",
      "warning: You appear to have cloned an empty repository.\n"
     ]
    }
   ],
   "source": [
    "!git clone https://git-codecommit.ap-south-1.amazonaws.com/v1/repos/sagemaker-intel-image-classification"
   ]
  },
  {
   "cell_type": "code",
   "execution_count": 20,
   "id": "dd365a9e-bd26-4694-ba5e-9a8684ba6931",
   "metadata": {
    "tags": []
   },
   "outputs": [
    {
     "name": "stdout",
     "output_type": "stream",
     "text": [
      "\u001b[31mERROR: pip's dependency resolver does not currently take into account all the packages that are installed. This behaviour is the source of the following dependency conflicts.\n",
      "sagemaker 2.93.0 requires boto3<2.0,>=1.20.21, but you have boto3 1.17.106 which is incompatible.\n",
      "awscli 1.25.85 requires botocore==1.27.84, but you have botocore 1.20.106 which is incompatible.\n",
      "awscli 1.25.85 requires PyYAML<5.5,>=3.10, but you have pyyaml 6.0 which is incompatible.\n",
      "awscli 1.25.85 requires s3transfer<0.7.0,>=0.6.0, but you have s3transfer 0.4.2 which is incompatible.\u001b[0m\u001b[31m\n",
      "\u001b[0m\u001b[33mWARNING: Running pip as the 'root' user can result in broken permissions and conflicting behaviour with the system package manager. It is recommended to use a virtual environment instead: https://pip.pypa.io/warnings/venv\u001b[0m\u001b[33m\n",
      "\u001b[0m\n",
      "\u001b[1m[\u001b[0m\u001b[34;49mnotice\u001b[0m\u001b[1;39;49m]\u001b[0m\u001b[39;49m A new release of pip available: \u001b[0m\u001b[31;49m22.2.2\u001b[0m\u001b[39;49m -> \u001b[0m\u001b[32;49m22.3.1\u001b[0m\n",
      "\u001b[1m[\u001b[0m\u001b[34;49mnotice\u001b[0m\u001b[1;39;49m]\u001b[0m\u001b[39;49m To update, run: \u001b[0m\u001b[32;49mpip install --upgrade pip\u001b[0m\n"
     ]
    }
   ],
   "source": [
    "! pip install --quiet \"dvc[s3]==2.8.3\""
   ]
  },
  {
   "cell_type": "code",
   "execution_count": 21,
   "id": "cca25864-394f-49ec-b58b-38ef74d123e4",
   "metadata": {
    "tags": []
   },
   "outputs": [
    {
     "name": "stdout",
     "output_type": "stream",
     "text": [
      "/root/intel-image-classification-sagemaker\n"
     ]
    }
   ],
   "source": [
    "! pwd"
   ]
  },
  {
   "cell_type": "code",
   "execution_count": 23,
   "id": "42be2ed6-27ed-47ae-8291-b8bd256788fc",
   "metadata": {
    "tags": []
   },
   "outputs": [
    {
     "data": {
      "text/plain": [
       "\"account = ['294495367161'], region = ['ap-south-1']\""
      ]
     },
     "execution_count": 23,
     "metadata": {},
     "output_type": "execute_result"
    }
   ],
   "source": [
    "f\"account = {account}, region = {region}\""
   ]
  },
  {
   "cell_type": "code",
   "execution_count": 24,
   "id": "20932445-7d63-49e3-b0ce-049df7180f46",
   "metadata": {},
   "outputs": [
    {
     "name": "stdout",
     "output_type": "stream",
     "text": [
      "/root/intel-image-classification-sagemaker/sagemaker-intel-image-classification\n"
     ]
    }
   ],
   "source": [
    "%cd sagemaker-intel-image-classification"
   ]
  },
  {
   "cell_type": "code",
   "execution_count": 25,
   "id": "6175b8cc-1f7a-4439-a2fc-b81558e15e10",
   "metadata": {
    "tags": []
   },
   "outputs": [
    {
     "name": "stdout",
     "output_type": "stream",
     "text": [
      "origin\thttps://git-codecommit.ap-south-1.amazonaws.com/v1/repos/sagemaker-intel-image-classification (fetch)\n",
      "origin\thttps://git-codecommit.ap-south-1.amazonaws.com/v1/repos/sagemaker-intel-image-classification (push)\n"
     ]
    }
   ],
   "source": [
    "!git remote -v"
   ]
  },
  {
   "cell_type": "code",
   "execution_count": 26,
   "id": "8ac75246-c6f4-4929-9e53-aad433b57841",
   "metadata": {
    "tags": []
   },
   "outputs": [
    {
     "name": "stdout",
     "output_type": "stream",
     "text": [
      "Initialized DVC repository.\n",
      "\n",
      "You can now commit the changes to git.\n",
      "\n",
      "\u001b[31m+---------------------------------------------------------------------+\n",
      "\u001b[0m\u001b[31m|\u001b[0m                                                                     \u001b[31m|\u001b[0m\n",
      "\u001b[31m|\u001b[0m        DVC has enabled anonymous aggregate usage analytics.         \u001b[31m|\u001b[0m\n",
      "\u001b[31m|\u001b[0m     Read the analytics documentation (and how to opt-out) here:     \u001b[31m|\u001b[0m\n",
      "\u001b[31m|\u001b[0m             <\u001b[36mhttps://dvc.org/doc/user-guide/analytics\u001b[39m>              \u001b[31m|\u001b[0m\n",
      "\u001b[31m|\u001b[0m                                                                     \u001b[31m|\u001b[0m\n",
      "\u001b[31m+---------------------------------------------------------------------+\n",
      "\u001b[0m\n",
      "\u001b[33mWhat's next?\u001b[39m\n",
      "\u001b[33m------------\u001b[39m\n",
      "- Check out the documentation: <\u001b[36mhttps://dvc.org/doc\u001b[39m>\n",
      "- Get help and share ideas: <\u001b[36mhttps://dvc.org/chat\u001b[39m>\n",
      "- Star us on GitHub: <\u001b[36mhttps://github.com/iterative/dvc\u001b[39m>\n",
      "\u001b[0m"
     ]
    }
   ],
   "source": [
    "! dvc init"
   ]
  },
  {
   "cell_type": "code",
   "execution_count": 29,
   "id": "3b3c9b68-d0d6-4c60-8e8a-7d9d7978cc6d",
   "metadata": {
    "tags": []
   },
   "outputs": [],
   "source": [
    "account = !(aws sts get-caller-identity --query Account --output text)\n",
    "region = ! (python -c \"import boto3;print(boto3.Session().region_name)\")\n",
    "\n",
    "account = account[0]\n",
    "region = region[0]"
   ]
  },
  {
   "cell_type": "code",
   "execution_count": 33,
   "id": "6343c725-d712-42e0-86e7-203b52481c92",
   "metadata": {
    "tags": []
   },
   "outputs": [
    {
     "name": "stdout",
     "output_type": "stream",
     "text": [
      "Setting 'storage' as a default remote.\n",
      "\u001b[0m[master 10780b2] Initialize DVC S3 remote\n",
      " 1 file changed, 2 insertions(+), 2 deletions(-)\n",
      "\u001b[0m\u001b[0m"
     ]
    }
   ],
   "source": [
    "# Set the DVC remote storage to S3 - uses the sagemaker standard default bucket\n",
    "! dvc remote add -d storage s3://sagemaker-\"{region}\"-\"{account}\"/sagemaker-intel-dvc -f\n",
    "! git commit .dvc/config -m \"Initialize DVC S3 remote\"\n",
    "\n",
    "# set the DVC cache to S3\n",
    "! dvc remote add s3cache s3://sagemaker-\"{region}\"-\"{account}\"/sagemaker-intel-dvc/cache -f\n",
    "! dvc config cache.s3 s3cache"
   ]
  },
  {
   "cell_type": "code",
   "execution_count": 34,
   "id": "40ed852c-95ff-454b-b8b3-65c4f86fcc96",
   "metadata": {
    "tags": []
   },
   "outputs": [
    {
     "name": "stdout",
     "output_type": "stream",
     "text": [
      "storage\ts3://sagemaker-ap-south-1-294495367161/sagemaker-intel-dvc\n",
      "s3cache\ts3://sagemaker-ap-south-1-294495367161/sagemaker-intel-dvc/cache\n",
      "\u001b[0m"
     ]
    }
   ],
   "source": [
    "! dvc remote list"
   ]
  },
  {
   "cell_type": "code",
   "execution_count": 35,
   "id": "4fcc510e-4bfc-4992-95d2-da612239d4e2",
   "metadata": {
    "tags": []
   },
   "outputs": [
    {
     "name": "stdout",
     "output_type": "stream",
     "text": [
      "\u001b[0m"
     ]
    }
   ],
   "source": [
    "# disable sending anonymized data to dvc for troubleshooting\n",
    "! dvc config core.analytics false"
   ]
  },
  {
   "cell_type": "code",
   "execution_count": 36,
   "id": "064e46c3-f298-4e70-a373-2791bed01042",
   "metadata": {
    "tags": []
   },
   "outputs": [
    {
     "name": "stdout",
     "output_type": "stream",
     "text": [
      "[master e9e73de] update dvc config\n",
      " 9 files changed, 517 insertions(+), 1 deletion(-)\n",
      " create mode 100644 .dvc/.gitignore\n",
      " create mode 100644 .dvc/plots/confusion.json\n",
      " create mode 100644 .dvc/plots/confusion_normalized.json\n",
      " create mode 100644 .dvc/plots/linear.json\n",
      " create mode 100644 .dvc/plots/scatter.json\n",
      " create mode 100644 .dvc/plots/simple.json\n",
      " create mode 100644 .dvc/plots/smooth.json\n",
      " create mode 100644 .dvcignore\n"
     ]
    }
   ],
   "source": [
    "! git add .dvc/config\n",
    "! git commit -m 'update dvc config'"
   ]
  },
  {
   "cell_type": "code",
   "execution_count": 37,
   "id": "d2b995a9-28c0-4968-95cf-542bf8af0b69",
   "metadata": {
    "tags": []
   },
   "outputs": [
    {
     "name": "stdout",
     "output_type": "stream",
     "text": [
      "Enumerating objects: 29, done.\n",
      "Counting objects: 100% (29/29), done.\n",
      "Delta compression using up to 2 threads\n",
      "Compressing objects: 100% (20/20), done.\n",
      "Writing objects: 100% (29/29), 3.90 KiB | 210.00 KiB/s, done.\n",
      "Total 29 (delta 9), reused 0 (delta 0)\n",
      "remote: Validating objects: 100%\u001b[K\n",
      "To https://git-codecommit.ap-south-1.amazonaws.com/v1/repos/sagemaker-intel-image-classification\n",
      " * [new branch]      master -> master\n",
      "Branch 'master' set up to track remote branch 'master' from 'origin'.\n"
     ]
    }
   ],
   "source": [
    "! git push --set-upstream origin master #--force"
   ]
  },
  {
   "cell_type": "code",
   "execution_count": null,
   "id": "6478c021-bfdc-4588-97ba-9637993e00ac",
   "metadata": {},
   "outputs": [],
   "source": []
  }
 ],
 "metadata": {
  "instance_type": "ml.t3.medium",
  "kernelspec": {
   "display_name": "Python 3 (PyTorch 1.12 Python 3.8 CPU Optimized)",
   "language": "python",
   "name": "python3__SAGEMAKER_INTERNAL__arn:aws:sagemaker:ap-south-1:394103062818:image/pytorch-1.12-cpu-py38"
  },
  "language_info": {
   "codemirror_mode": {
    "name": "ipython",
    "version": 3
   },
   "file_extension": ".py",
   "mimetype": "text/x-python",
   "name": "python",
   "nbconvert_exporter": "python",
   "pygments_lexer": "ipython3",
   "version": "3.8.13"
  }
 },
 "nbformat": 4,
 "nbformat_minor": 5
}
